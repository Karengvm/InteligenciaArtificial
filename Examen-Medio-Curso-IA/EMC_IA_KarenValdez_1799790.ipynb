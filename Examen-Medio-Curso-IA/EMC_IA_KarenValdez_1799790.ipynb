{
  "nbformat": 4,
  "nbformat_minor": 0,
  "metadata": {
    "colab": {
      "name": "EMC-IA-KarenValdez-1799790.ipynb",
      "provenance": []
    },
    "kernelspec": {
      "name": "python3",
      "display_name": "Python 3"
    },
    "language_info": {
      "name": "python"
    }
  },
  "cells": [
    {
      "cell_type": "markdown",
      "metadata": {
        "id": "RIOpmuPsAfVC"
      },
      "source": [
        "Examen Medio Curso \n",
        "\n",
        "Karen Giselle Valdez Muñoz \n",
        "\n",
        "1799790- Martes N4\n"
      ]
    },
    {
      "cell_type": "markdown",
      "metadata": {
        "id": "GiOb2lEfAtrh"
      },
      "source": [
        "1.1 El usuario dará un número al azar y el código calculará la suma de todos los números desde el 1 hasta el número dado por el usuario.\n",
        "Ejemplo: el usuario dió el número 4, el código deberá de dar como resultado 10"
      ]
    },
    {
      "cell_type": "code",
      "metadata": {
        "colab": {
          "base_uri": "https://localhost:8080/"
        },
        "id": "C7oqvMbMAs8B",
        "outputId": "d4534974-7b14-4f6f-875b-e31e2a6e142b"
      },
      "source": [
        "num=int(input('Ingresa un número al azar: ')) #se pide el numero al azar y se define como una variable entera\n",
        "i=1 #se le da un valor a la i como 1 ya que se sumara desde el 1\n",
        "sum=0 #se le da un valor a sum como 0 \n",
        "while i<=num:  #se incializa un loop con while para que se sumen desde el numero 1 hasta el numero dado por el usario\n",
        "  sum=i+sum #se suma cada numero desde el 1 hasta llegar al numero del usuario\n",
        "  i+=1 #se suma uno a la i para el loop \n",
        "print('La suma es: ',sum) #se imprime el resultado de la suma\n"
      ],
      "execution_count": 10,
      "outputs": [
        {
          "output_type": "stream",
          "name": "stdout",
          "text": [
            "Ingresa un número al azar 4\n",
            "La suma es:  10\n"
          ]
        }
      ]
    },
    {
      "cell_type": "markdown",
      "metadata": {
        "id": "FtyePV1nBDIp"
      },
      "source": [
        "1.2 Dados el inicio y final de un rango de números, guardar ese rango de números en una lista. Después, imprimir los números que son pares en la lista por medio de uno de los ciclos que vimos en clase. \n",
        "Inicio = 6, final = 31"
      ]
    },
    {
      "cell_type": "code",
      "metadata": {
        "colab": {
          "base_uri": "https://localhost:8080/"
        },
        "id": "TXzQAXdhBF6K",
        "outputId": "f1851aee-3dac-48ae-e607-f3d1ad4884ca"
      },
      "source": [
        "incio= int(input('Ingresa el numero de inicio para el rango: ')) #se pide el numero de incio del rango\n",
        "final=int(input('Ingresa el numero final para el rango: ')) #se pide el numero final del rango\n",
        "lista=list (range(incio,final+1)) #se crea una lista y se agrega los numeros dentro del rango establecido por el usuario y se le agrega 1 al numero final para  que se tomen todos los numeros en cuenta\n",
        "print('Los numeros pares de la lista son:') \n",
        "for num in lista: #se crea un ciclo for para imprimir la lista de pares\n",
        "  if num%2==0: #se una condición para que sol se impriman los numeros que al dividirlos su residuo sea 0 \n",
        "    print(num) #se imprimen los numeros pares"
      ],
      "execution_count": 17,
      "outputs": [
        {
          "output_type": "stream",
          "name": "stdout",
          "text": [
            "Ingresa el numero de inicio para el rango: 6\n",
            "Ingresa el numero final para el rango: 31\n",
            "Los numeros pares de la lista son:\n",
            "6\n",
            "8\n",
            "10\n",
            "12\n",
            "14\n",
            "16\n",
            "18\n",
            "20\n",
            "22\n",
            "24\n",
            "26\n",
            "28\n",
            "30\n"
          ]
        }
      ]
    }
  ]
}