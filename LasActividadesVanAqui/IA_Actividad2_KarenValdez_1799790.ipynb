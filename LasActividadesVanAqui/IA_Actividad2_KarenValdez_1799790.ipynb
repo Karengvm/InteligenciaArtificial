{
  "nbformat": 4,
  "nbformat_minor": 0,
  "metadata": {
    "colab": {
      "name": "IA_Actividad2_KarenValdez_1799790.ipynb",
      "provenance": [],
      "collapsed_sections": []
    },
    "kernelspec": {
      "name": "python3",
      "display_name": "Python 3"
    },
    "language_info": {
      "name": "python"
    }
  },
  "cells": [
    {
      "cell_type": "markdown",
      "metadata": {
        "id": "XD2v76bWO5J4"
      },
      "source": [
        "**Actividad 2.- Ejercicios Introducción Python**\n",
        "\n",
        "Karen Giselle Valdez Muñoz 1799790\n",
        "\n",
        "Martes N4"
      ]
    },
    {
      "cell_type": "markdown",
      "metadata": {
        "id": "Mql6wW3yP6W0"
      },
      "source": [
        "**Ejercicio 1:**\n",
        "\n",
        "Crear un programa que pregunte al usuario por su nombre, edad, una frase favorita y autor de la frase favorita. El programa deberá de imprimir un mensaje compuesto por el nombre y edad del usuario diciendo que su frase favorita es la que dió anteriormente y el autor de dicha frase es el nombre previamente dado. "
      ]
    },
    {
      "cell_type": "code",
      "metadata": {
        "colab": {
          "base_uri": "https://localhost:8080/"
        },
        "id": "ju5FAflwaUth",
        "outputId": "69212ae1-6546-45af-91e0-881fdab6e8a0"
      },
      "source": [
        "name= input(\"¿Cómo te llamas?\") #se usa la función input para obtener la respuesta del usuario a las preguntas \n",
        "age= input(\"¿Cuántos años tienes?\")\n",
        "frase= input(\"¿Cuál es tu frase favorita?\")\n",
        "autor= input(\"¿Quién es el autor de la frase?\")\n",
        "a= \"La frase favorita de \" #se le da una variable a una frase la cual será parte de la frase final \n",
        "b= \", la cual tiene \"\n",
        "c=\" años, es < \"\n",
        "d= \" > la cual fue dicha por el autor: \"\n",
        "print(a+name+b+age+c+frase+d+autor)#usando concatenación se imprime la frase final"
      ],
      "execution_count": 13,
      "outputs": [
        {
          "output_type": "stream",
          "name": "stdout",
          "text": [
            "¿Cómo te llamas?Karen\n",
            "¿Cuántos años tienes?21\n",
            "¿Cuál es tu frase favorita?Hello World\n",
            "¿Quién es el autor de la frase?Yoshi\n",
            "La frase favorita de Karen, la cual tiene 21 años, es < Hello World > la cual fue dicha por el autor: Yoshi\n"
          ]
        }
      ]
    },
    {
      "cell_type": "markdown",
      "metadata": {
        "id": "gTbb1WaDTKLm"
      },
      "source": [
        "**Ejercicio 2:**\n",
        "\n",
        "Crear un programa que le pida al usuario capturar dos números enteros y dos números flotantes. Después, realizará la suma, resta, multiplicación y división, de ambos pares de números. Como resultado se deberán de obtener 8 valores. Imprimir todos estos reultados"
      ]
    },
    {
      "cell_type": "code",
      "metadata": {
        "id": "QEsmeAg6TUwi",
        "colab": {
          "base_uri": "https://localhost:8080/"
        },
        "outputId": "49e5d77f-5182-4fad-f40d-01cdbbcfb557"
      },
      "source": [
        "a=int(input(\"Introduzca un numero entero:\"))#se usa la función input para capturar los valores seleccionados por el usuario y se define el tipo de dato\n",
        "b=int(input(\"Introduzca un numero entero:\"))\n",
        "c=float(input(\"Introduzca un numero flotante:\"))\n",
        "d=float(input(\"Introduzca un numero flotante:\"))\n",
        "sum1=a+b #se realizan las diferentes operaciones para ambos pares de números \n",
        "sum2=c+d\n",
        "rest1=a-b\n",
        "rest2=c-d\n",
        "mul1=a*b\n",
        "mul2=c*d\n",
        "div1=a/b\n",
        "div2=c/d \n",
        "print(\"Sumas\",sum1,\",\",sum2,\"\\nRestas\",rest1,\",\",rest2,\"\\nMultiplicaciones\",mul1,\",\",mul2,\"\\nDivisiones\",div1,\",\",div2)#se imprimen los 8 valores resultantes"
      ],
      "execution_count": 8,
      "outputs": [
        {
          "output_type": "stream",
          "name": "stdout",
          "text": [
            "Introduzca un numero entero:20\n",
            "Introduzca un numero entero:10\n",
            "Introduzca un numero flotante:21.5\n",
            "Introduzca un numero flotante:10.5\n",
            "Sumas 30 , 32.0 \n",
            "Restas 10 , 11.0 \n",
            "Multiplicaciones 200 , 225.75 \n",
            "Divisiones 2.0 , 2.0476190476190474\n"
          ]
        }
      ]
    },
    {
      "cell_type": "markdown",
      "metadata": {
        "id": "5-7tQYCEYNZ5"
      },
      "source": [
        "**Ejercicio 3:**\n",
        "\n",
        "Crear un programa que evalúe dos expresiones lógicas con `and`, dos con `or` y dos con `not`. Cada expresión deberá hacer uso de operadores de comparación. "
      ]
    },
    {
      "cell_type": "code",
      "metadata": {
        "id": "-LUtoHeLYToa",
        "colab": {
          "base_uri": "https://localhost:8080/"
        },
        "outputId": "17416a72-ca6a-44b7-ac06-d86cdfab7b56"
      },
      "source": [
        "x=float(input(\"Dale un valor a X:\")) #se usa la función input para capturar el valor X seleccionado por el usuario y se define el tipo de dato\n",
        "a= x>5 and x<20 #se evaluan las expresiones lógicas\n",
        "b= x>1 and x<5\n",
        "c= x>10 or x<30\n",
        "d= x>100 or x<10\n",
        "e= not (x>=13)\n",
        "f= not (x<30)\n",
        "print(\"\\n\",a,\"\\n\",b,\"\\n\",c,\"\\n\",d,\"\\n\",e,\"\\n\",f) #se imprime si true o false dependiendo de cada expresión y del valor que se le otorgo a \"x\"\n"
      ],
      "execution_count": 10,
      "outputs": [
        {
          "output_type": "stream",
          "name": "stdout",
          "text": [
            "Dale un valor a X:13\n",
            "\n",
            " True \n",
            " False \n",
            " True \n",
            " False \n",
            " False \n",
            " False\n"
          ]
        }
      ]
    }
  ]
}