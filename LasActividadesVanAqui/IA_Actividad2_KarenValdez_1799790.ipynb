{
  "nbformat": 4,
  "nbformat_minor": 0,
  "metadata": {
    "colab": {
      "name": "IA_Actividad2_KarenValdez_1799790.ipynb",
      "provenance": [],
      "collapsed_sections": []
    },
    "kernelspec": {
      "name": "python3",
      "display_name": "Python 3"
    },
    "language_info": {
      "name": "python"
    }
  },
  "cells": [
    {
      "cell_type": "markdown",
      "metadata": {
        "id": "XD2v76bWO5J4"
      },
      "source": [
        "**Actividad 2.- Ejercicios Introducción Python**\n",
        "\n",
        "Karen Giselle Valdez Muñoz 1799790\n",
        "\n",
        "Martes N4"
      ]
    },
    {
      "cell_type": "markdown",
      "metadata": {
        "id": "Mql6wW3yP6W0"
      },
      "source": [
        "**Ejercicio 1:**\n",
        "\n",
        "Crear un programa que pregunte al usuario por su nombre, edad, una frase favorita y autor de la frase favorita. El programa deberá de imprimir un mensaje compuesto por el nombre y edad del usuario diciendo que su frase favorita es la que dió anteriormente y el autor de dicha frase es el nombre previamente dado. "
      ]
    },
    {
      "cell_type": "code",
      "metadata": {
        "id": "k2TJM63UQD_0"
      },
      "source": [
        "name= input(\"¿Cómo te llamas?\") #se usa la función input para obtener la respuesta del usuario a las preguntas \n",
        "age= int(input(\"¿Cuántos años tienes?\"))\n",
        "frase= input(\"¿Cuál es tu frase favorita?\")\n",
        "autor= input(\"¿Quién es el autor de la frase?\")\n",
        "print(\"La frase favorita de\",name,\", la cual tiene\",age,\"años, es <\",frase,\"> la cual fue dicha por el autor\",autor )#se imprime el mensaje compuesto por las respuestas"
      ],
      "execution_count": null,
      "outputs": []
    },
    {
      "cell_type": "code",
      "metadata": {
        "id": "ju5FAflwaUth"
      },
      "source": [
        "name= input(\"¿Cómo te llamas?\") #se usa la función input para obtener la respuesta del usuario a las preguntas \n",
        "age= input(\"¿Cuántos años tienes?\")\n",
        "frase= input(\"¿Cuál es tu frase favorita?\")\n",
        "autor= input(\"¿Quién es el autor de la frase?\")\n",
        "print(name+age+frase+autor)#usando concatenación"
      ],
      "execution_count": null,
      "outputs": []
    },
    {
      "cell_type": "markdown",
      "metadata": {
        "id": "gTbb1WaDTKLm"
      },
      "source": [
        "**Ejercicio 2:**\n",
        "\n",
        "Crear un programa que le pida al usuario capturar dos números enteros y dos números flotantes. Después, realizará la suma, resta, multiplicación y división, de ambos pares de números. Como resultado se deberán de obtener 8 valores. Imprimir todos estos reultados"
      ]
    },
    {
      "cell_type": "code",
      "metadata": {
        "id": "QEsmeAg6TUwi"
      },
      "source": [
        "a=int(input(\"Introduzca un numero entero:\"))#se usa la función input para capturar los valores seleccionados por el usuario y se define el tipo de dato\n",
        "b=int(input(\"Introduzca un numero entero:\"))\n",
        "c=float(input(\"Introduzca un numero flotante:\"))\n",
        "d=float(input(\"Introduzca un numero flotante:\"))\n",
        "sum1=a+b #se realizan las diferentes operaciones para ambos pares de números \n",
        "sum2=c+d\n",
        "rest1=a-b\n",
        "rest2=c-d\n",
        "mul1=a*b\n",
        "mul2=c*d\n",
        "div1=a/b\n",
        "div2=c/d \n",
        "print(\"Sumas\",sum1,\",\",sum2,\"\\nRestas\",rest1,\",\",rest2,\"\\nMultiplicaciones\",mul1,\",\",mul2,\"\\nDivisiones\",div1,\",\",div2)#se imprimen los 8 valores resultantes"
      ],
      "execution_count": null,
      "outputs": []
    },
    {
      "cell_type": "markdown",
      "metadata": {
        "id": "5-7tQYCEYNZ5"
      },
      "source": [
        "**Ejercicio 3:**\n",
        "\n",
        "Crear un programa que evalúe dos expresiones lógicas con `and`, dos con `or` y dos con `not`. Cada expresión deberá hacer uso de operadores de comparación. "
      ]
    },
    {
      "cell_type": "code",
      "metadata": {
        "id": "-LUtoHeLYToa"
      },
      "source": [
        "x=float(input(\"Dale un valor a X:\")) #se usa la función input para capturar el valor X seleccionado por el usuario y se define el tipo de dato\n",
        "a= x>5 and x<20 #se evaluan las expresiones lógicas\n",
        "b= x>1 and x<5\n",
        "c= x>10 or x<30\n",
        "d= x>100 or x<10\n",
        "e= not (x>=13)\n",
        "f= not (x<30)\n",
        "print(\"\\n\"a,\"\\n\",b,\"\\n\",c,\"\\n\",d,\"\\n\",e,\"\\n\",f) #se imprime si true o false dependiendo de cada expresión y del valor que se le otorgo a \"x\"\n"
      ],
      "execution_count": null,
      "outputs": []
    }
  ]
}